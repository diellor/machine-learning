{
 "cells": [
  {
   "cell_type": "markdown",
   "id": "a251d2b5",
   "metadata": {},
   "source": [
    "## Imports"
   ]
  },
  {
   "cell_type": "code",
   "execution_count": 48,
   "id": "ebf467e9",
   "metadata": {},
   "outputs": [],
   "source": [
    "import os\n",
    "import sys\n",
    "from typing import Dict, List, Optional, Sequence, TextIO\n",
    "import numpy as np\n",
    "import pandas as pd\n",
    "import urllib.request\n",
    "import pickle\n",
    "import tensorflow as tf\n",
    "os.environ.setdefault(\"TF_CPP_MIN_LOG_LEVEL\", \"2\")  # Report only TF errors by default\n",
    "import matplotlib.pyplot as plt\n",
    "\n",
    "from DS_2_2023_HW2_efficient_net import EfficientNet\n",
    "from tensorflow.keras.layers import Input, Dense, Dropout, Flatten\n",
    "from tensorflow.keras.models import Model\n",
    "from tensorflow.keras.optimizers import Adam\n",
    "from tensorflow.keras.callbacks import EarlyStopping\n",
    "from tensorflow.keras.losses import SparseCategoricalCrossentropy\n",
    "from tensorflow.keras.metrics import SparseCategoricalAccuracy\n"
   ]
  },
  {
   "cell_type": "code",
   "execution_count": 49,
   "id": "7a059f96",
   "metadata": {},
   "outputs": [],
   "source": [
    "tf.keras.utils.set_random_seed(16)"
   ]
  },
  {
   "cell_type": "markdown",
   "id": "95f8cdcd",
   "metadata": {},
   "source": [
    "## Data"
   ]
  },
  {
   "cell_type": "code",
   "execution_count": 50,
   "id": "ad29ec83",
   "metadata": {},
   "outputs": [],
   "source": [
    "# Height, width and number of channels\n",
    "H: int = 224\n",
    "W: int = 224\n",
    "C: int = 3\n",
    "LABELS: int = 34\n",
    "    \n",
    "def parse(example) -> Dict[str, tf.Tensor]:\n",
    "    example = tf.io.parse_single_example(example, {\n",
    "        \"image\": tf.io.FixedLenFeature([], tf.string),\n",
    "        \"mask\": tf.io.FixedLenFeature([], tf.string),\n",
    "        \"label\": tf.io.FixedLenFeature([], tf.int64)})\n",
    "    example[\"image\"] = tf.image.convert_image_dtype(tf.image.decode_jpeg(example[\"image\"], channels=3), tf.float32)\n",
    "    example[\"mask\"] = tf.image.convert_image_dtype(tf.image.decode_png(example[\"mask\"], channels=1), tf.float32)\n",
    "#     example[\"label\"] = tf.one_hot(example[\"label\"], depth=LABELS)\n",
    "    return example\n"
   ]
  },
  {
   "cell_type": "code",
   "execution_count": 51,
   "id": "51f7ef00",
   "metadata": {
    "scrolled": false
   },
   "outputs": [],
   "source": [
    "# Load data. Train & Dev datasets are stored as tfrecord objects (see https://www.tensorflow.org/api_docs/python/tf/data/TFRecordDataset)-\n",
    "train = tf.data.TFRecordDataset(\"hw2_trainsample.tfrecord\")\n",
    "dev = tf.data.TFRecordDataset(\"hw2_devsample.tfrecord\")\n",
    "# Process data. Train & Dev are decoded from jpeg; Test data are constructed from list.\n",
    "train = train.map(parse)\n",
    "dev = dev.map(parse)\n",
    "\n",
    "    "
   ]
  },
  {
   "cell_type": "code",
   "execution_count": 52,
   "id": "7d03343d",
   "metadata": {},
   "outputs": [
    {
     "data": {
      "text/plain": [
       "<MapDataset element_spec={'image': TensorSpec(shape=(None, None, 3), dtype=tf.float32, name=None), 'label': TensorSpec(shape=(), dtype=tf.int64, name=None), 'mask': TensorSpec(shape=(None, None, 1), dtype=tf.float32, name=None)}>"
      ]
     },
     "execution_count": 52,
     "metadata": {},
     "output_type": "execute_result"
    }
   ],
   "source": [
    "train"
   ]
  },
  {
   "cell_type": "code",
   "execution_count": 53,
   "id": "20eb8465",
   "metadata": {
    "scrolled": false
   },
   "outputs": [],
   "source": [
    "# We define pipeline that will consist of augmentation and batching\n",
    "\n",
    "def augment_train(input):\n",
    "    image = input['image']\n",
    "    label = input['label']\n",
    "    \n",
    "    # Augmentation procedures (modify to your wish)\n",
    "\n",
    "    image = tf.image.random_jpeg_quality(image,80,100)\n",
    "    image = tf.image.random_flip_left_right(image)\n",
    "    image = tf.image.random_flip_up_down(image)\n",
    "    image = tf.image.random_crop(image, [H, W, C])\n",
    "\n",
    "    return image, label\n",
    "\n",
    "def augment_dev(input):\n",
    "    image = input['image']\n",
    "    label = input['label']\n",
    "    \n",
    "    # Augmentation procedures (add to your wish)\n",
    "    # Note: if we add augmentation also to dev dataset, we can assume that\n",
    "    # performance of test dataset will be better as test dataset is not augmented\n",
    "    \n",
    "    return image, label\n",
    "\n",
    "train = train.map(augment_train)\n",
    "dev = dev.map(augment_dev)\n",
    "\n",
    "BATCH_SIZE = 32\n",
    "train = train.batch(BATCH_SIZE)\n",
    "dev = dev.batch(BATCH_SIZE)"
   ]
  },
  {
   "cell_type": "code",
   "execution_count": 54,
   "id": "36661df6",
   "metadata": {},
   "outputs": [],
   "source": [
    "import keras\n",
    "## Base_model_2\n",
    "# Call constructor of EfficientNet\n",
    "base_model = EfficientNet(\n",
    "    width_coefficient=1.0,\n",
    "    depth_coefficient=1.0,\n",
    "    default_resolution=224,\n",
    "    dropout_rate=0.2,\n",
    "    include_top=False,\n",
    "    weights='efficientnet.h5'\n",
    ")\n",
    "\n",
    "# base_model = keras.applications.EfficientNetB5(\n",
    "#                             include_top=False, # Exclude ImageNet classifier at the top.\n",
    "#                             weights=\"imagenet\",\n",
    "#                             input_shape=(224, 224, 3)\n",
    "#                             )\n",
    "\n",
    "base_model.trainable = False"
   ]
  },
  {
   "cell_type": "code",
   "execution_count": 55,
   "id": "80c3d385",
   "metadata": {},
   "outputs": [],
   "source": [
    "for layer in base_model.layers:\n",
    "    layer.trainable = False\n",
    "\n",
    "retrain_layers = 10 \n",
    "\n",
    "for layer in base_model.layers[-retrain_layers:]:\n",
    "    layer.trainable = True"
   ]
  },
  {
   "cell_type": "code",
   "execution_count": 56,
   "id": "53172fe2",
   "metadata": {},
   "outputs": [
    {
     "name": "stdout",
     "output_type": "stream",
     "text": [
      "Epoch 1/25\n",
      "67/67 [==============================] - 43s 594ms/step - loss: 2.0864 - sparse_categorical_accuracy: 0.4384 - val_loss: 1.6374 - val_sparse_categorical_accuracy: 0.8203\n",
      "Epoch 2/25\n",
      "67/67 [==============================] - 38s 561ms/step - loss: 0.7600 - sparse_categorical_accuracy: 0.7754 - val_loss: 0.9841 - val_sparse_categorical_accuracy: 0.8660\n",
      "Epoch 3/25\n",
      "67/67 [==============================] - 37s 548ms/step - loss: 0.4643 - sparse_categorical_accuracy: 0.8637 - val_loss: 0.6269 - val_sparse_categorical_accuracy: 0.8660\n",
      "Epoch 4/25\n",
      "67/67 [==============================] - 39s 576ms/step - loss: 0.3219 - sparse_categorical_accuracy: 0.9178 - val_loss: 0.4622 - val_sparse_categorical_accuracy: 0.8856\n",
      "Epoch 5/25\n",
      "67/67 [==============================] - 38s 559ms/step - loss: 0.2182 - sparse_categorical_accuracy: 0.9491 - val_loss: 0.4036 - val_sparse_categorical_accuracy: 0.8693\n",
      "Epoch 6/25\n",
      "67/67 [==============================] - 37s 552ms/step - loss: 0.1566 - sparse_categorical_accuracy: 0.9715 - val_loss: 0.3761 - val_sparse_categorical_accuracy: 0.8856\n",
      "Epoch 7/25\n",
      "67/67 [==============================] - 38s 558ms/step - loss: 0.1186 - sparse_categorical_accuracy: 0.9851 - val_loss: 0.3762 - val_sparse_categorical_accuracy: 0.8824\n",
      "Epoch 8/25\n",
      "67/67 [==============================] - 40s 599ms/step - loss: 0.0883 - sparse_categorical_accuracy: 0.9907 - val_loss: 0.3562 - val_sparse_categorical_accuracy: 0.8889\n",
      "Epoch 9/25\n",
      "67/67 [==============================] - 40s 591ms/step - loss: 0.0758 - sparse_categorical_accuracy: 0.9939 - val_loss: 0.3570 - val_sparse_categorical_accuracy: 0.8824\n",
      "Epoch 10/25\n",
      "67/67 [==============================] - 41s 608ms/step - loss: 0.0673 - sparse_categorical_accuracy: 0.9925 - val_loss: 0.3496 - val_sparse_categorical_accuracy: 0.8922\n",
      "Epoch 11/25\n",
      "67/67 [==============================] - 38s 565ms/step - loss: 0.0514 - sparse_categorical_accuracy: 0.9986 - val_loss: 0.3642 - val_sparse_categorical_accuracy: 0.8922\n",
      "Epoch 12/25\n",
      "67/67 [==============================] - 41s 612ms/step - loss: 0.0449 - sparse_categorical_accuracy: 0.9972 - val_loss: 0.3547 - val_sparse_categorical_accuracy: 0.8987\n",
      "Epoch 13/25\n",
      "67/67 [==============================] - 40s 597ms/step - loss: 0.0390 - sparse_categorical_accuracy: 0.9977 - val_loss: 0.3608 - val_sparse_categorical_accuracy: 0.8954\n",
      "Epoch 14/25\n",
      "67/67 [==============================] - 38s 569ms/step - loss: 0.0370 - sparse_categorical_accuracy: 0.9986 - val_loss: 0.3524 - val_sparse_categorical_accuracy: 0.8922\n",
      "Epoch 15/25\n",
      "67/67 [==============================] - 37s 559ms/step - loss: 0.0295 - sparse_categorical_accuracy: 0.9995 - val_loss: 0.3524 - val_sparse_categorical_accuracy: 0.8987\n"
     ]
    }
   ],
   "source": [
    "from keras import layers\n",
    "from keras import callbacks\n",
    "\n",
    "inputs = keras.Input(shape=(224, 224, 3))  \n",
    "x = keras.applications.efficientnet.preprocess_input(inputs)\n",
    "x = base_model(x, training=False)[1]\n",
    "\n",
    "x = layers.GlobalAveragePooling2D()(x)\n",
    "x = layers.BatchNormalization()(x)\n",
    "x = layers.Dropout(0.2)(x)  \n",
    "\n",
    "outputs = layers.Dense(LABELS, activation=\"softmax\", name=\"pred\")(x)\n",
    "\n",
    "model = keras.Model(inputs, outputs)\n",
    "\n",
    "\n",
    "# model.compile(optimizer=keras.optimizers.Adam(),\n",
    "#               loss=keras.losses.CategoricalCrossentropy(),\n",
    "#               metrics=[keras.metrics.CategoricalAccuracy()]\n",
    "#              )\n",
    "# Compile the model\n",
    "model.compile(optimizer=Adam(),\n",
    "              loss=SparseCategoricalCrossentropy(),\n",
    "              metrics=[SparseCategoricalAccuracy()])\n",
    "\n",
    "earlystopping = callbacks.EarlyStopping(monitor='val_loss', \n",
    "                                        mode='min', \n",
    "                                        patience=5, \n",
    "                                        restore_best_weights=True)\n",
    "\n",
    "EPOCHS = 25\n",
    "\n",
    "history = model.fit(train, epochs=EPOCHS, validation_data=dev, verbose=1,\n",
    "                    callbacks =[earlystopping])"
   ]
  },
  {
   "cell_type": "code",
   "execution_count": 58,
   "id": "c9cfdd8a",
   "metadata": {},
   "outputs": [
    {
     "data": {
      "image/png": "[encoded data removed]",
      "text/plain": [
       "<Figure size 640x480 with 1 Axes>"
      ]
     },
     "metadata": {},
     "output_type": "display_data"
    }
   ],
   "source": [
    "def plot_hist(hist):\n",
    "    plt.plot(hist.history['sparse_categorical_accuracy'])\n",
    "    plt.plot(hist.history['val_sparse_categorical_accuracy'])\n",
    "    plt.title('Categorical accuracy')\n",
    "    plt.ylabel('accuracy')\n",
    "    plt.xlabel('epoch')\n",
    "    plt.legend(['train', 'validation'], loc='upper left')\n",
    "    plt.show()\n",
    "\n",
    "plot_hist(history)"
   ]
  },
  {
   "cell_type": "code",
   "execution_count": 41,
   "id": "eb843edc",
   "metadata": {},
   "outputs": [
    {
     "data": {
      "image/png": "[encoded data removed]",
      "text/plain": [
       "<Figure size 640x480 with 1 Axes>"
      ]
     },
     "metadata": {},
     "output_type": "display_data"
    }
   ],
   "source": [
    "def plot_hist(hist):\n",
    "    plt.plot(hist.history['categorical_accuracy'])\n",
    "    plt.plot(hist.history['val_categorical_accuracy'])\n",
    "    plt.title('Categorical accuracy')\n",
    "    plt.ylabel('accuracy')\n",
    "    plt.xlabel('epoch')\n",
    "    plt.legend(['train', 'validation'], loc='upper left')\n",
    "    plt.show()\n",
    "\n",
    "plot_hist(history)"
   ]
  },
  {
   "cell_type": "code",
   "execution_count": 40,
   "id": "d43d862b",
   "metadata": {},
   "outputs": [
    {
     "name": "stdout",
     "output_type": "stream",
     "text": [
      "5/5 [==============================] - 3s 466ms/step\n"
     ]
    },
    {
     "data": {
      "text/plain": [
       "array([ 9,  1, 15, 33, 27, 11, 27, 16,  2,  4, 22,  2, 29, 10, 17, 12, 13,\n",
       "        1, 29,  5, 26, 17,  7,  6,  9, 24, 19, 30, 25, 14,  7, 32, 13, 28,\n",
       "       21, 11, 19, 32,  0, 10, 22, 15,  9, 12, 21, 16, 20, 28, 24,  3, 33,\n",
       "       33, 20, 30,  2, 11,  4, 30, 20, 32, 28, 21, 12, 21,  6,  6,  9,  6,\n",
       "       15, 32, 29,  0,  6, 29, 16, 30,  7, 14, 26,  2, 22, 25, 11, 10, 11,\n",
       "        8, 14,  5, 33,  6,  7,  8, 14, 22, 21,  2, 17,  4, 25, 20, 29, 27,\n",
       "       18, 25,  6, 15, 29,  9, 25, 21, 13,  1, 15, 16,  5, 24, 25,  9, 28,\n",
       "       25, 26,  7, 21, 19,  8,  0, 15, 20,  0, 33, 19, 10,  4,  9, 14, 11,\n",
       "       23, 19, 31, 23,  8,  5,  4,  1, 13, 15, 17, 15,  6,  9])"
      ]
     },
     "execution_count": 40,
     "metadata": {},
     "output_type": "execute_result"
    }
   ],
   "source": [
    "test_images = np.array(test) \n",
    "test_predictions = model.predict(test_images)\n",
    "predicted_labels = np.argmax(test_predictions, axis=1)\n",
    "\n",
    "predicted_labels"
   ]
  },
  {
   "cell_type": "code",
   "execution_count": 63,
   "id": "c1f708e8",
   "metadata": {},
   "outputs": [
    {
     "name": "stdout",
     "output_type": "stream",
     "text": [
      "5/5 [==============================] - 3s 444ms/step\n"
     ]
    }
   ],
   "source": [
    "# Load test dataset stored as pickled list.\n",
    "with open('hw2_outofsample.pickle', 'rb') as handle:\n",
    "    test = pickle.load(handle)\n",
    "\n",
    "# Produce dataset from list\n",
    "test = tf.data.Dataset.from_tensor_slices(test)\n",
    "\n",
    "# Apply batching also to 'test'\n",
    "test = test.batch(BATCH_SIZE)\n",
    "\n",
    "# Predict\n",
    "test_prediction_prob = model.predict(test)\n",
    "test_prediction = [\n",
    "    np.argmax(probs) for probs in test_prediction_prob\n",
    "]\n",
    "\n",
    "id_column = range(0, len(test_prediction))\n",
    "prediction_column = test_prediction\n",
    "\n",
    "results = pd.DataFrame({'ID': id_column, 'TARGET': prediction_column})\n",
    "\n",
    "results.to_csv('hw2_outofsample_prediction.csv', index=False)\n",
    "\n",
    "# Store results\n",
    "# pd.DataFrame({'prediction': test_prediction}).to_csv('hw2_outofsample_prediction.csv', index=True, header=True)"
   ]
  }
 ],
 "metadata": {
  "kernelspec": {
   "display_name": "Python 3 (ipykernel)",
   "language": "python",
   "name": "python3"
  },
  "language_info": {
   "codemirror_mode": {
    "name": "ipython",
    "version": 3
   },
   "file_extension": ".py",
   "mimetype": "text/x-python",
   "name": "python",
   "nbconvert_exporter": "python",
   "pygments_lexer": "ipython3",
   "version": "3.8.8"
  },
  "toc": {
   "base_numbering": 1,
   "nav_menu": {},
   "number_sections": true,
   "sideBar": true,
   "skip_h1_title": false,
   "title_cell": "Table of Contents",
   "title_sidebar": "Contents",
   "toc_cell": false,
   "toc_position": {
    "height": "calc(100% - 180px)",
    "left": "10px",
    "top": "150px",
    "width": "223px"
   },
   "toc_section_display": true,
   "toc_window_display": true
  },
  "varInspector": {
   "cols": {
    "lenName": 16,
    "lenType": 16,
    "lenVar": 40
   },
   "kernels_config": {
    "python": {
     "delete_cmd_postfix": "",
     "delete_cmd_prefix": "del ",
     "library": "var_list.py",
     "varRefreshCmd": "print(var_dic_list())"
    },
    "r": {
     "delete_cmd_postfix": ") ",
     "delete_cmd_prefix": "rm(",
     "library": "var_list.r",
     "varRefreshCmd": "cat(var_dic_list()) "
    }
   },
   "types_to_exclude": [
    "module",
    "function",
    "builtin_function_or_method",
    "instance",
    "_Feature"
   ],
   "window_display": false
  }
 },
 "nbformat": 4,
 "nbformat_minor": 5
}
