{
 "cells": [
  {
   "cell_type": "markdown",
   "metadata": {},
   "source": [
    "## Building a Naïve Bayes Classifier from Scratch and Classification of handwritten digits (MNIST dataset).\n",
    "We're going to use the MNIST dataset to illustrate our Naïve Bayes Classifier. This dataset consists of images of handwritten digits, converted into 784-length vectors. Each element in these vectors corresponds to a pixel in the original 28x28 pixel image and its grayscale value.\n",
    "\n",
    "Each pixel can have one of three grayscale values:\n",
    "\n",
    "0 represents a white pixel\n",
    "1 represents a gray pixel\n",
    "2 represents a black pixel\n",
    "You can download the dataset file named MNIST3_dataset.npz along with this notebook from the following link: <insert link here>.Building a Naïve Bayes Classifier from Scratch and Using it on the MNIST Dataset\n",
    "We're going to use the MNIST dataset to illustrate our Naïve Bayes Classifier. This dataset consists of images of handwritten digits, converted into 784-length vectors. Each element in these vectors corresponds to a pixel in the original 28x28 pixel image and its grayscale value.\n",
    "\n",
    "Each pixel can have one of three grayscale values:\n",
    "\n",
    "0 represents a white pixel\n",
    "1 represents a gray pixel\n",
    "2 represents a black pixel\n",
    "You can download the dataset file named MNIST3_dataset.npz along with this notebook from the following link: <insert link here>."
   ]
  },
  {
   "cell_type": "code",
   "execution_count": 5,
   "metadata": {},
   "outputs": [
    {
     "name": "stdout",
     "output_type": "stream",
     "text": [
      "['X_train', 'y_train', 'X_test', 'y_test']\n"
     ]
    },
    {
     "data": {
      "text/plain": [
       "array([[0, 0, 0, ..., 0, 0, 0],\n",
       "       [0, 0, 0, ..., 0, 0, 0],\n",
       "       [0, 0, 0, ..., 0, 0, 0],\n",
       "       ...,\n",
       "       [0, 0, 0, ..., 0, 0, 0],\n",
       "       [0, 0, 0, ..., 0, 0, 0],\n",
       "       [0, 0, 0, ..., 0, 0, 0]], dtype=int8)"
      ]
     },
     "execution_count": 5,
     "metadata": {},
     "output_type": "execute_result"
    }
   ],
   "source": [
    "import numpy as np\n",
    "import pandas as pd\n",
    "import matplotlib.pyplot as plt\n",
    "\n",
    "# in the load method the parameter allow_pickle must \n",
    "# be set to True for unpacking the data\n",
    "npzfile = np.load('MNIST3_dataset.npz', allow_pickle=True)\n",
    "print(npzfile.files) # prints ['X_train', 'y_train', 'X_test', 'y_test']\n",
    "\n",
    "# you can access train/test data and labels as follows\n",
    "# prints array([[0., 0., 0., ..., 0., 0., 0.], with shape (60000, 784) which contains 60000 images of 28x28 pixels\n",
    "npzfile['X_train'] "
   ]
  },
  {
   "cell_type": "markdown",
   "metadata": {},
   "source": [
    "Data is separated into: training and testing. X_train and y_train make up the training data, with X_train being the features we use to train our model and y_train being the corresponding labels.\n",
    "\n",
    "X_test and y_test make up the test data, which we use to evaluate the model. Let's examine the 34th sample in our test dataset to get a better understanding of a data."
   ]
  },
  {
   "cell_type": "code",
   "execution_count": 6,
   "metadata": {},
   "outputs": [
    {
     "name": "stdout",
     "output_type": "stream",
     "text": [
      "True label 7\n"
     ]
    },
    {
     "data": {
      "image/png": "[encoded data removed]",
      "text/plain": [
       "<Figure size 640x480 with 1 Axes>"
      ]
     },
     "metadata": {},
     "output_type": "display_data"
    }
   ],
   "source": [
    "plt.imshow(npzfile['X_test'][34].reshape(28,28), cmap='Greys')\n",
    "y_test = npzfile['y_test']\n",
    "print('True label',y_test[34])"
   ]
  },
  {
   "cell_type": "markdown",
   "metadata": {},
   "source": [
    "Next, we're going to create two methods. NBTrain method, will be used to to train our Naïve Bayes classifier (model) using a technique called Laplace correction. The second method, NBClassify, will take our trained model and use it to predict the classes of unseen test data.\n",
    "\n",
    "Laplace correction,  is a simple technique used to prevent zero probabilities in machine learning calculations. It works by adding a small constant to each probability, ensuring there's no probability that's exactly zero.\n",
    "\n",
    "If the constant used is 0, then no correction is being applied.\n",
    "\n",
    "This technique might help on classifying the unseen data (test data set)"
   ]
  },
  {
   "cell_type": "markdown",
   "metadata": {},
   "source": [
    "## The function NBTrain() is designed to train a Naive Bayes model with given training data. It takes:\n",
    "\n",
    "* train_patterns: Training data in a two-dimensional integer array where each feature value is between 0 and num_features - 1.\n",
    "\n",
    "* class_labels: The true classes of the patterns in train_patterns. For instance, class_labels[i] is the true class for train_patterns[i].\n",
    "* num_features: The maximum possible number of feature values, which should be less or equal to 50.\n",
    "* num_classes: The total number of classes, which should be less or equal to 20.\n",
    "laplace_correction: The value used for Laplace correction, with 0 indicating no correction.\n",
    "\n",
    "The function returns:\n",
    "\n",
    "* feature_log_probs: A three-dimensional array where feature_log_probs[f, c, i] is the log of the probability that a pattern with feature value f at index i * * * belongs to class c. This probability is calculated using Laplace correction.\n",
    "* class_log_probs: An array of logs of the prior probabilities for each class, calculated without using Laplace correction."
   ]
  },
  {
   "cell_type": "markdown",
   "metadata": {},
   "source": [
    "## Bayesian Theorem\n",
    "\n",
    "Naive Bayes is a classification algorithm based on the Bayes Theorem. It is 'naive' because it assumes that all features in a dataset are mutually independent, which means the value of any feature does not depend on the value of any other feature.\n",
    "\n",
    "Bayes theorem formula is expressed as:\n",
    "P(A|B) = P(B|A) * P(A) / P(B)\n",
    "\n",
    "where:\n",
    "\n",
    "P(A|B) is the posterior probability of class (A) given predictor (B).\n",
    "P(A) is the prior probability of class.\n",
    "P(B|A) is the likelihood which is the probability of predictor given class.\n",
    "P(B) is the prior probability of predictor.\n",
    "\n",
    "Make sure to understand this theorem and how it's applied before continuing this article, a helpful resource is:\n",
    "\n",
    "https://www.geeksforgeeks.org/naive-bayes-classifiers/\n"
   ]
  },
  {
   "cell_type": "code",
   "execution_count": null,
   "metadata": {},
   "outputs": [],
   "source": [
    "import numpy as np\n",
    "\n",
    "def NBTrain(train_patterns, class_labels, num_features, num_classes, laplace_correction=0):\n",
    "    # Count the total number of training instances\n",
    "    num_patterns = np.shape(train_patterns)[0]\n",
    "    # Count the total number of features in each instance\n",
    "    num_attributes = np.shape(train_patterns)[1]\n",
    "\n",
    "    # Initialize arrays for storing log probabilities of features and classes\n",
    "    feature_log_probs = np.zeros((num_features, num_classes, num_attributes))\n",
    "    class_log_probs = np.zeros(num_classes)\n",
    "\n",
    "    # Loop over each training instance and feature\n",
    "    for pattern_index in range(num_patterns):\n",
    "        for attribute_index in range(num_attributes):\n",
    "            # Count occurrences of each feature for each class\n",
    "            feature_log_probs[train_patterns[pattern_index][attribute_index], class_labels[pattern_index], attribute_index] += 1\n",
    "\n",
    "    # Loop over each class and feature\n",
    "    for class_index in range(num_classes):\n",
    "        for attribute_index in range(num_attributes):\n",
    "            # Calculate log probabilities of each feature for each class, applying Laplace smoothing if specified\n",
    "            feature_log_probs[:, class_index, attribute_index] = np.log((feature_log_probs[:, class_index, attribute_index] + laplace_correction) / (np.sum(feature_log_probs[:, class_index, attribute_index]) + num_features * laplace_correction))\n",
    "\n",
    "    # Calculate log probabilities of each class\n",
    "    class_log_probs = np.log(np.bincount(class_labels) / num_patterns)\n",
    "\n",
    "    # Return the log probabilities of features and classes\n",
    "    return feature_log_probs, class_log_probs\n",
    "\n"
   ]
  },
  {
   "cell_type": "markdown",
   "metadata": {},
   "source": [
    "The function above computes and returns the log probabilities of features and classes. These will be used to make predictions on new, unseen data by choosing the class that maximizes the product of the input feature's log probabilities and the class's log probability, as per Bayes' theorem."
   ]
  },
  {
   "cell_type": "markdown",
   "metadata": {},
   "source": [
    "## Implementation of the function `NBClassify()`\n",
    "\n",
    "The function NBClassify() predicts classes for given patterns using the Naive Bayes classifier. It takes:\n",
    "\n",
    "* test_patterns: The patterns that need to be classified. Each row in this two-dimensional array is one pattern.\n",
    "* feature_log_probs: A three-dimensional array of floats, representing the log probabilities of each feature for each class, computed by the NBTrain function.\n",
    "* class_log_probs: A vector of floats representing the log prior probabilities for each class, also computed by the NBTrain function.\n",
    "\n",
    "The function returns a vector of predicted classes for each pattern in test_patterns.\n",
    "\n",
    "While implementing, we need to use logarithms to maintain numerical stability, as computing the product of many small values can lead to a loss of accuracy."
   ]
  },
  {
   "cell_type": "code",
   "execution_count": 9,
   "metadata": {},
   "outputs": [],
   "source": [
    "def NBClassify(test_patterns, feature_log_probs, class_log_probs):\n",
    "    num_patterns = np.shape(test_patterns)[0]\n",
    "    num_attributes = np.shape(test_patterns)[1]\n",
    "\n",
    "    predicted_classes = np.zeros(num_patterns, dtype=int)\n",
    "\n",
    "    for pattern_index in range(num_patterns):\n",
    "        log_posterior_probs = np.zeros(class_log_probs.shape)\n",
    "        for attribute_index in range(num_attributes):\n",
    "            log_posterior_probs += feature_log_probs[test_patterns[pattern_index][attribute_index], :, attribute_index]\n",
    "        log_posterior_probs += class_log_probs\n",
    "        predicted_classes[pattern_index] = np.argmax(log_posterior_probs)\n",
    "\n",
    "    return predicted_classes"
   ]
  },
  {
   "cell_type": "markdown",
   "metadata": {},
   "source": [
    "## Find the best classifier using different values (constants) for laplace correction\n",
    "\n",
    "1. Calculate the error of the classifier on the training set `X_train` and the test set `X_test` for different values Laplace correction values `LC` = 0, 0.001, 0.01, 0.1, 0.2, 0.4, 1, 10. Present the results in a tabular form. For which of these Laplace correction values is the error on the test set minimal?\n",
    "\n",
    "3. Describe the errors made by your best classifier. This description should include the images of the first 10 handwritten digits on which your best classifier made an error, **together with the required and incorrect classification** of those digits."
   ]
  },
  {
   "cell_type": "code",
   "execution_count": 10,
   "metadata": {},
   "outputs": [
    {
     "name": "stdout",
     "output_type": "stream",
     "text": [
      "0\n"
     ]
    },
    {
     "name": "stderr",
     "output_type": "stream",
     "text": [
      "/var/folders/g8/kbvj9nqs6_b2jngf6hqjvfxw0000gn/T/ipykernel_22458/4227363946.py:16: RuntimeWarning: divide by zero encountered in log\n",
      "  feature_log_probs[:, class_index, attribute_index] = np.log((feature_log_probs[:, class_index, attribute_index] + laplace_correction) / (np.sum(feature_log_probs[:, class_index, attribute_index]) + num_features * laplace_correction))\n"
     ]
    },
    {
     "name": "stdout",
     "output_type": "stream",
     "text": [
      "0\n",
      "0.001\n",
      "0.001\n",
      "0.01\n",
      "0.01\n",
      "0.1\n",
      "0.1\n",
      "0.2\n",
      "0.2\n",
      "0.4\n",
      "0.4\n",
      "1\n",
      "1\n",
      "10\n",
      "10\n"
     ]
    },
    {
     "data": {
      "text/html": [
       "<div>\n",
       "<style scoped>\n",
       "    .dataframe tbody tr th:only-of-type {\n",
       "        vertical-align: middle;\n",
       "    }\n",
       "\n",
       "    .dataframe tbody tr th {\n",
       "        vertical-align: top;\n",
       "    }\n",
       "\n",
       "    .dataframe thead th {\n",
       "        text-align: right;\n",
       "    }\n",
       "</style>\n",
       "<table border=\"1\" class=\"dataframe\">\n",
       "  <thead>\n",
       "    <tr style=\"text-align: right;\">\n",
       "      <th></th>\n",
       "      <th>Error Train</th>\n",
       "      <th>Error Test</th>\n",
       "      <th>LC</th>\n",
       "    </tr>\n",
       "  </thead>\n",
       "  <tbody>\n",
       "    <tr>\n",
       "      <th>0</th>\n",
       "      <td>0.159033</td>\n",
       "      <td>0.1532</td>\n",
       "      <td>0.000</td>\n",
       "    </tr>\n",
       "    <tr>\n",
       "      <th>1</th>\n",
       "      <td>0.160833</td>\n",
       "      <td>0.1515</td>\n",
       "      <td>0.001</td>\n",
       "    </tr>\n",
       "    <tr>\n",
       "      <th>2</th>\n",
       "      <td>0.161317</td>\n",
       "      <td>0.1520</td>\n",
       "      <td>0.010</td>\n",
       "    </tr>\n",
       "    <tr>\n",
       "      <th>3</th>\n",
       "      <td>0.161983</td>\n",
       "      <td>0.1524</td>\n",
       "      <td>0.100</td>\n",
       "    </tr>\n",
       "    <tr>\n",
       "      <th>4</th>\n",
       "      <td>0.162217</td>\n",
       "      <td>0.1524</td>\n",
       "      <td>0.200</td>\n",
       "    </tr>\n",
       "    <tr>\n",
       "      <th>5</th>\n",
       "      <td>0.162483</td>\n",
       "      <td>0.1525</td>\n",
       "      <td>0.400</td>\n",
       "    </tr>\n",
       "    <tr>\n",
       "      <th>6</th>\n",
       "      <td>0.162983</td>\n",
       "      <td>0.1529</td>\n",
       "      <td>1.000</td>\n",
       "    </tr>\n",
       "    <tr>\n",
       "      <th>7</th>\n",
       "      <td>0.165700</td>\n",
       "      <td>0.1555</td>\n",
       "      <td>10.000</td>\n",
       "    </tr>\n",
       "  </tbody>\n",
       "</table>\n",
       "</div>"
      ],
      "text/plain": [
       "   Error Train  Error Test      LC\n",
       "0     0.159033      0.1532   0.000\n",
       "1     0.160833      0.1515   0.001\n",
       "2     0.161317      0.1520   0.010\n",
       "3     0.161983      0.1524   0.100\n",
       "4     0.162217      0.1524   0.200\n",
       "5     0.162483      0.1525   0.400\n",
       "6     0.162983      0.1529   1.000\n",
       "7     0.165700      0.1555  10.000"
      ]
     },
     "execution_count": 10,
     "metadata": {},
     "output_type": "execute_result"
    }
   ],
   "source": [
    "import pandas as pd\n",
    "from sklearn.metrics import accuracy_score\n",
    "\n",
    "train_features = npzfile['X_train']\n",
    "train_labels = npzfile['y_train']\n",
    "\n",
    "test_features = npzfile['X_test']\n",
    "test_labels = npzfile['y_test']\n",
    "\n",
    "laplace_values = [0, 0.001, 0.01, 0.1, 0.2, 0.4, 1, 10]\n",
    "\n",
    "results_data = []\n",
    "\n",
    "feature_values_count = np.unique(train_features).size\n",
    "class_count = np.unique(train_labels).size\n",
    "\n",
    "for laplace_val in laplace_values:\n",
    "    print(laplace_val)\n",
    "    feature_probs, class_probs = NBTrain(train_features, train_labels, feature_values_count, class_count, laplace_val)\n",
    "    \n",
    "    predicted_train_labels = NBClassify(train_features, feature_probs, class_probs)\n",
    "    predicted_test_labels = NBClassify(test_features, feature_probs, class_probs)\n",
    "    \n",
    "    training_error = 1 - accuracy_score(train_labels, predicted_train_labels)\n",
    "    testing_error = 1 - accuracy_score(test_labels, predicted_test_labels)\n",
    "    \n",
    "    results_data.append({'Error Train': training_error, 'Error Test': testing_error,'LC': laplace_val})\n",
    "    print(laplace_val)\n",
    "results_table = pd.DataFrame(results_data)\n",
    "results_table\n"
   ]
  },
  {
   "cell_type": "markdown",
   "metadata": {},
   "source": [
    "### Based on the table above, the best classifier is with LC = 0, basically without using Laplace correction\n",
    "\n",
    "### Now we will examine our results, and do some analysis on our misclassified examples"
   ]
  },
  {
   "cell_type": "code",
   "execution_count": 11,
   "metadata": {},
   "outputs": [
    {
     "name": "stdout",
     "output_type": "stream",
     "text": [
      "Accuracy of our trained model\n",
      "0.8445\n"
     ]
    },
    {
     "data": {
      "image/png": "[encoded data removed]",
      "text/plain": [
       "<Figure size 1000x500 with 10 Axes>"
      ]
     },
     "metadata": {},
     "output_type": "display_data"
    }
   ],
   "source": [
    "predicted_test_labels = NBClassify(test_features, feature_probs, class_probs)\n",
    "print(\"Accuracy of our trained model\")\n",
    "print(accuracy_score(test_labels, predicted_test_labels))\n",
    "misclassified_samples = test_labels != predicted_test_labels\n",
    "\n",
    "misclassified_test_images = test_features[misclassified_samples][:10]\n",
    "misclassified_true_labels = test_labels[misclassified_samples][:10]\n",
    "misclassified_pred_labels = predicted_test_labels[misclassified_samples][:10]\n",
    "\n",
    "plt.figure(figsize=(10, 5))\n",
    "\n",
    "for i, image in enumerate(misclassified_test_images):\n",
    "    plt.subplot(2, 5, i + 1)\n",
    "    plt.imshow(image.reshape(28, 28), cmap='gray')\n",
    "    plt.title(f\"True: {misclassified_true_labels[i]} - Pred: {misclassified_pred_labels[i]}\")\n",
    "    plt.axis('off')\n",
    "\n",
    "plt.tight_layout()\n",
    "plt.show()"
   ]
  },
  {
   "cell_type": "markdown",
   "metadata": {},
   "source": [
    "These are the 10 Incorrect classification, as we can see some of them are hard to predict even by us (humans), for example The 4th image, which is 4 and it was predicted 0, it doesn't look like four at all. We can see that the algorithm had hard time differentiation between 8 and 0, since 8 and 0 have a similar structure. Or, when the characters are rotated such as 6, It has hard time classifying.\n",
    "The accuracy of our model on test data is around 84 % which is decent performance."
   ]
  }
 ],
 "metadata": {
  "kernelspec": {
   "display_name": "Python 3 (ipykernel)",
   "language": "python",
   "name": "python3"
  },
  "language_info": {
   "codemirror_mode": {
    "name": "ipython",
    "version": 3
   },
   "file_extension": ".py",
   "mimetype": "text/x-python",
   "name": "python",
   "nbconvert_exporter": "python",
   "pygments_lexer": "ipython3",
   "version": "3.8.8"
  }
 },
 "nbformat": 4,
 "nbformat_minor": 4
}
